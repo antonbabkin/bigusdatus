{
 "cells": [
  {
   "cell_type": "code",
   "execution_count": null,
   "metadata": {},
   "outputs": [],
   "source": [
    "# default_exp storage"
   ]
  },
  {
   "cell_type": "markdown",
   "metadata": {},
   "source": [
    "# Storage\n",
    "\n",
    "> Storage alternatives. Read, write and convert files."
   ]
  },
  {
   "cell_type": "markdown",
   "metadata": {},
   "source": [
    "# CSV\n",
    "\n",
    "## Issues\n",
    "- Newly introduced nullable string dtype (pd.StringDtype, \"string\") substantially increases read time compared to old \"object\" type. Need to profile this and choose an approach."
   ]
  },
  {
   "cell_type": "code",
   "execution_count": null,
   "metadata": {},
   "outputs": [],
   "source": [
    "# export\n",
    "import json\n",
    "import pandas as pd"
   ]
  },
  {
   "cell_type": "code",
   "execution_count": null,
   "metadata": {},
   "outputs": [],
   "source": [
    "# export\n",
    "def dtypes_from_schema(schema_path, ext_dtypes=False):\n",
    "    \"\"\"Read JSON table schema and convert it to \n",
    "    dictionary (col_name -> col_dtype) that can be passed to pandas CSV reader.\n",
    "    \"\"\"\n",
    "    with open(schema_path) as f:\n",
    "        schema = json.load(f)\n",
    "    if ext_dtypes:\n",
    "        dt_int = 'Int64'\n",
    "        dt_str = 'string'\n",
    "    else:\n",
    "        dt_int = 'float64'\n",
    "        dt_str = 'str'\n",
    "    map_ = {\n",
    "        'integer': dt_int,\n",
    "        'number': 'float64',\n",
    "        'string': dt_str,\n",
    "        'year': dt_int\n",
    "    }\n",
    "    dtypes = {f['name']: map_[f['type']] for f in schema['fields']}\n",
    "    return dtypes\n",
    "\n",
    "def read_csv(year, ext_dtypes=False, full=False):\n",
    "    \"\"\"Read single year of data from CSV file into pandas dataframe.\n",
    "    \n",
    "    :par ext_dtypes: use pandas experimental extension types (nullable int and str).\n",
    "    :par full: read all records or just the first 100k.\n",
    "    \"\"\"\n",
    "    path = f'./data/csv/{year}.csv'\n",
    "    dt = dtypes_from_schema(f'./data/csv/{year}_schema.json', ext_dtypes)\n",
    "    nr = None if full else 100000\n",
    "    return pd.read_csv(path, dtype=dt, nrows=nr)"
   ]
  },
  {
   "cell_type": "code",
   "execution_count": null,
   "metadata": {},
   "outputs": [
    {
     "name": "stdout",
     "output_type": "stream",
     "text": [
      "CPU times: user 732 ms, sys: 68.1 ms, total: 800 ms\n",
      "Wall time: 798 ms\n"
     ]
    }
   ],
   "source": [
    "%%time\n",
    "df = read_csv(2013, False)"
   ]
  },
  {
   "cell_type": "code",
   "execution_count": null,
   "metadata": {},
   "outputs": [
    {
     "name": "stdout",
     "output_type": "stream",
     "text": [
      "CPU times: user 18.1 s, sys: 24.6 ms, total: 18.1 s\n",
      "Wall time: 18.1 s\n"
     ]
    }
   ],
   "source": [
    "%%time\n",
    "df = read_csv(2013, True)"
   ]
  },
  {
   "cell_type": "markdown",
   "metadata": {},
   "source": [
    "# parquet\n",
    "\n",
    "## Apache Parquet\n",
    "\n",
    "[Website](https://parquet.apache.org/)\n",
    "[Wikipedia](https://en.wikipedia.org/wiki/Apache_Parquet)\n",
    "[Docs](https://parquet.apache.org/documentation/latest/)\n",
    "\n",
    "File format for data storage. Provides efficient data compression and encoding schemes with enhanced performance to handle complex data in bulk. \n",
    "\n",
    "> Apache Parquet is a columnar storage format available to any project in the Hadoop ecosystem, regardless of the choice of data processing framework, data model or programming language.\n",
    "\n",
    "Features:\n",
    "\n",
    "- columnar storage, only read the data of interest\n",
    "- efficient binary packing\n",
    "- choice of compression algorithms and encoding\n",
    "- split data into files, allowing for parallel processing\n",
    "- range of logical types\n",
    "- statistics stored in metadata allow for skipping unneeded chunks\n",
    "- data partitioning using the directory structure\n",
    "\n",
    "Hierarchically, a file consists of one or more row groups. A row group contains exactly one column chunk per column. Column chunks contain one or more pages.\n",
    "\n",
    "[Parquet vs CSV: AWS processing costs](https://blog.openbridge.com/how-to-be-a-hero-with-powerful-parquet-google-and-amazon-f2ae0f35ee04)\n",
    "\n",
    "\n",
    "## fastparquet\n",
    "\n",
    "[GitHub](https://github.com/dask/fastparquet)\n",
    "[Docs](https://fastparquet.readthedocs.io/en/latest/)\n",
    "\n",
    "Python implementation of the *Apache Parquet* format.\n",
    "Part of *dask* ecosystem, designed to work well with dask for parallel execution.\n",
    "\n",
    "Latest release: 0.3.3\n",
    "\n",
    "Not all parts of the Parquet-format have been implemented yet or tested. \n",
    "Not all output options will be compatible with every other Parquet framework, which each implement only a subset of the standard.\n",
    "Usage decisions: writing parquet files that are compatible with other parquet implementations, versus performance when writing data for reading back with fastparquet.\n",
    "\n",
    "Compression: uncompressed, gzip, snappy (install `python-snappy` from conda-forge separately)\n",
    "\n",
    "### Issues\n",
    "\n",
    "- As of 0.3.3, pandas extended dtypes like \"Int64\" are not supported, but there is [PR](https://github.com/dask/fastparquet/pull/483)\n",
    "\n",
    "\n",
    "## Apache Arrow\n",
    "\n",
    "> Apache Arrow is a cross-language development platform for **in-memory** data. It specifies a standardized language-independent columnar memory format for flat and hierarchical data, organized for efficient analytic operations on modern hardware. It also provides computational libraries and zero-copy streaming messaging and interprocess communication.\n",
    "\n",
    "[Website](https://arrow.apache.org/)\n",
    "[Docs](https://arrow.apache.org/docs/index.html)\n",
    "\n",
    "The Arrow Python bindings (also named “PyArrow”) have first-class integration with NumPy, pandas, and built-in Python objects. They are based on the C++ implementation of Arrow.\n",
    "\n",
    "[Data types, Schema and Table](https://arrow.apache.org/docs/python/data.html)\n",
    "\n",
    "[Read and write parquet](https://arrow.apache.org/docs/python/parquet.html)\n",
    "\n",
    "> fastparquet has a much smaller footprint, weighing in at a modest 180 kB compared to pyarrow‘s hulking 48 MB. It also has a much simpler and pandas centric read/write signature which can be nice for users that are more comfortable working with a DataFrame mindset. On the other hand,pyarrow offers greater coverage of the Parquet file format, more voluminous documentation, and more explicit column typing which turned out to be important later on. After much wavering we decided to go forward using pyarrow. [parquet business use case](https://medium.com/when-i-work-data/por-que-parquet-2a3ec42141c6)\n",
    "\n",
    "Arrow's purpose is to move data between components (pandas, parquet, CSV, Spark, R, ...) more efficiently. If we only use pandas, fastparquet might be sufficient. As of now, Arrow does not support SAS or Stata.\n",
    "\n",
    "\n",
    "### Feather\n",
    "\n",
    "[Docs](https://arrow.apache.org/docs/python/ipc.html#feather-format)\n",
    "\n",
    "Lightweight file storage format for dataframes understood by both pandas and R. Does not look very active, it is probably better to use parquet."
   ]
  },
  {
   "cell_type": "code",
   "execution_count": null,
   "metadata": {},
   "outputs": [],
   "source": [
    "# export\n",
    "import fastparquet as fp"
   ]
  },
  {
   "cell_type": "code",
   "execution_count": null,
   "metadata": {},
   "outputs": [],
   "source": [
    "# convert CSV to parquet\n",
    "data_years = range(1997, 2016)\n",
    "for year in data_years:\n",
    "    df = read_csv(year)\n",
    "    fp.write(f'./data/parquet/{year}.pq', df, write_index=False)"
   ]
  },
  {
   "cell_type": "code",
   "execution_count": null,
   "metadata": {},
   "outputs": [
    {
     "name": "stdout",
     "output_type": "stream",
     "text": [
      "30M data/parquet/1997.pq  28M data/parquet/2004.pq  26M data/parquet/2011.pq\r\n",
      "34M data/parquet/1998.pq  26M data/parquet/2005.pq  26M data/parquet/2012.pq\r\n",
      "38M data/parquet/1999.pq  28M data/parquet/2006.pq  26M data/parquet/2013.pq\r\n",
      "34M data/parquet/2000.pq  26M data/parquet/2007.pq  27M data/parquet/2014.pq\r\n",
      "34M data/parquet/2001.pq  26M data/parquet/2008.pq  31M data/parquet/2015.pq\r\n",
      "37M data/parquet/2002.pq  26M data/parquet/2009.pq\r\n",
      "27M data/parquet/2003.pq  26M data/parquet/2010.pq\r\n"
     ]
    }
   ],
   "source": [
    "!ls -sh data/parquet/????.pq"
   ]
  },
  {
   "cell_type": "code",
   "execution_count": null,
   "metadata": {},
   "outputs": [],
   "source": [
    "# convert CSV to parquet\n",
    "data_years = range(1997, 2016)\n",
    "for year in data_years:\n",
    "    df = read_csv(year)\n",
    "    fp.write(f'./data/parquet/{year}.gz.pq', df, compression='gzip', write_index=False)"
   ]
  },
  {
   "cell_type": "code",
   "execution_count": null,
   "metadata": {},
   "outputs": [
    {
     "name": "stdout",
     "output_type": "stream",
     "text": [
      "4.1M data/parquet/1997.gz.pq  3.2M data/parquet/2007.gz.pq\r\n",
      "4.7M data/parquet/1998.gz.pq  3.2M data/parquet/2008.gz.pq\r\n",
      "5.7M data/parquet/1999.gz.pq  3.2M data/parquet/2009.gz.pq\r\n",
      "4.7M data/parquet/2000.gz.pq  3.3M data/parquet/2010.gz.pq\r\n",
      "4.6M data/parquet/2001.gz.pq  3.2M data/parquet/2011.gz.pq\r\n",
      "5.6M data/parquet/2002.gz.pq  3.4M data/parquet/2012.gz.pq\r\n",
      "3.4M data/parquet/2003.gz.pq  3.3M data/parquet/2013.gz.pq\r\n",
      "3.9M data/parquet/2004.gz.pq  3.5M data/parquet/2014.gz.pq\r\n",
      "3.2M data/parquet/2005.gz.pq  4.2M data/parquet/2015.gz.pq\r\n",
      "3.7M data/parquet/2006.gz.pq\r\n"
     ]
    }
   ],
   "source": [
    "!ls -sh data/parquet/????.gz.pq"
   ]
  },
  {
   "cell_type": "code",
   "execution_count": null,
   "metadata": {},
   "outputs": [],
   "source": [
    "# convert CSV to parquet\n",
    "data_years = range(1997, 2016)\n",
    "for year in data_years:\n",
    "    df = read_csv(year)\n",
    "    fp.write(f'./data/parquet/{year}.snappy.pq', df, compression='snappy', write_index=False)"
   ]
  },
  {
   "cell_type": "code",
   "execution_count": null,
   "metadata": {},
   "outputs": [
    {
     "name": "stdout",
     "output_type": "stream",
     "text": [
      "7.7M data/parquet/1997.snappy.pq  6.1M data/parquet/2007.snappy.pq\r\n",
      "8.7M data/parquet/1998.snappy.pq  6.1M data/parquet/2008.snappy.pq\r\n",
      " 11M data/parquet/1999.snappy.pq  6.2M data/parquet/2009.snappy.pq\r\n",
      "8.7M data/parquet/2000.snappy.pq  6.2M data/parquet/2010.snappy.pq\r\n",
      "8.5M data/parquet/2001.snappy.pq  6.1M data/parquet/2011.snappy.pq\r\n",
      " 11M data/parquet/2002.snappy.pq  6.4M data/parquet/2012.snappy.pq\r\n",
      "6.4M data/parquet/2003.snappy.pq  6.2M data/parquet/2013.snappy.pq\r\n",
      "7.2M data/parquet/2004.snappy.pq  6.5M data/parquet/2014.snappy.pq\r\n",
      "6.2M data/parquet/2005.snappy.pq  7.7M data/parquet/2015.snappy.pq\r\n",
      "6.8M data/parquet/2006.snappy.pq\r\n"
     ]
    }
   ],
   "source": [
    "!ls -sh data/parquet/????.snappy.pq"
   ]
  },
  {
   "cell_type": "code",
   "execution_count": null,
   "metadata": {},
   "outputs": [],
   "source": [
    "def read_pq(year, cols=None):\n",
    "    \"\"\"Read single year of data from CSV file into pandas dataframe.\n",
    "    \n",
    "    :par cols: list of columns to read (default all).\n",
    "    \"\"\"\n",
    "    pf = fp.ParquetFile(f'./data/parquet/{year}.pq')\n",
    "    return pf.to_pandas(cols)"
   ]
  },
  {
   "cell_type": "code",
   "execution_count": null,
   "metadata": {},
   "outputs": [],
   "source": [
    "dfc = read_csv(2013)\n",
    "dfp = read_pq(2013)"
   ]
  },
  {
   "cell_type": "code",
   "execution_count": null,
   "metadata": {},
   "outputs": [
    {
     "data": {
      "text/plain": [
       "True"
      ]
     },
     "execution_count": null,
     "metadata": {},
     "output_type": "execute_result"
    }
   ],
   "source": [
    "(dfc.dtypes == dfp.dtypes).all()"
   ]
  },
  {
   "cell_type": "markdown",
   "metadata": {},
   "source": [
    "# omnischema\n",
    "\n",
    "This is an idea of a Python package that would provide conversion between different table schema formats.\n",
    "\n",
    "What I need now: conversion between pandas and parquet.\n",
    "\n",
    "Schemas that could be supported:\n",
    "\n",
    "- pandas\n",
    "  - classic [numpy dtypes](https://docs.scipy.org/doc/numpy/reference/arrays.dtypes.html)\n",
    "  - new [extension types](https://pandas.pydata.org/docs/getting_started/basics.html#basics-dtypes)\n",
    "- [parquet](https://github.com/apache/parquet-format/blob/master/LogicalTypes.md)\n",
    "- [Frictionless Data Table Schema](https://frictionlessdata.io/specs/table-schema/)\n",
    "- SQL (flavors)\n",
    "- Apache Arrow\n",
    "- R dataframe\n",
    "- Stata\n",
    "- SAS\n",
    "- BigQuery\n",
    "- xlsx, ods\n",
    "\n",
    "## Existing tools\n",
    "\n",
    "- [Stat/Transfer](https://stattransfer.com/) - commercial software for format conversion. It even support Feather.\n",
    "- [pyreadstat](https://github.com/Roche/pyreadstat)\n",
    "  - convert SAS, Stata and SPSS formats <-> pandas dataframes\n",
    "  - wrapped C library, faster than sas7bdat and pd.read_sas\n",
    "  - available from conda-forge\n",
    "  - read meta, read column subset, read row chunks\n",
    "- [odo](http://odo.pydata.org/en/latest/) - efficiently migrates data from the source to the target through a network of conversions.\n",
    "\n",
    "\n",
    "## Additional resources\n",
    "\n",
    "- [DCAT](https://www.w3.org/TR/vocab-dcat/) - W3C spec for dataset metadata\n",
    "- [Schema.org Dataset](https://schema.org/Dataset) - founded by major search engines, used by Google Dataset Search tool.\n",
    "- [Data Documentation Initiative](https://ddialliance.org/)"
   ]
  }
 ],
 "metadata": {
  "kernelspec": {
   "display_name": "Python 3",
   "language": "python",
   "name": "python3"
  }
 },
 "nbformat": 4,
 "nbformat_minor": 3
}
