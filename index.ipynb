{
 "cells": [
  {
   "cell_type": "markdown",
   "metadata": {},
   "source": [
    "# Exploring large data storage formats\n",
    "\n",
    "> InfoGroup dataset comes in plain CSV files and is rather big. Exploring alternatives for storage and processing."
   ]
  },
  {
   "cell_type": "code",
   "execution_count": null,
   "metadata": {},
   "outputs": [],
   "source": [
    "# hide\n",
    "# all_flag\n",
    "from ig_format.core import ls_validated"
   ]
  },
  {
   "cell_type": "markdown",
   "metadata": {},
   "source": [
    "# Original data\n"
   ]
  },
  {
   "cell_type": "code",
   "execution_count": null,
   "metadata": {},
   "outputs": [
    {
     "name": "stdout",
     "output_type": "stream",
     "text": [
      "Name\tLines\tSize\n",
      "./out/valid/1997.csv\t11263922\t2G\n",
      "./out/valid/1998.csv\t10774212\t2G\n",
      "./out/valid/1999.csv\t11020067\t3G\n",
      "./out/valid/2000.csv\t11169277\t3G\n",
      "./out/valid/2001.csv\t12549385\t3G\n",
      "./out/valid/2002.csv\t12848950\t3G\n",
      "./out/valid/2003.csv\t12743181\t3G\n",
      "./out/valid/2004.csv\t12616725\t3G\n",
      "./out/valid/2005.csv\t13196450\t3G\n",
      "./out/valid/2006.csv\t13350451\t3G\n",
      "./out/valid/2007.csv\t13701377\t3G\n",
      "./out/valid/2008.csv\t13887804\t3G\n",
      "./out/valid/2009.csv\t13669082\t3G\n",
      "./out/valid/2010.csv\t13834281\t3G\n",
      "./out/valid/2011.csv\t13468614\t3G\n",
      "./out/valid/2012.csv\t14715369\t3G\n",
      "./out/valid/2013.csv\t15954359\t3G\n",
      "./out/valid/2014.csv\t15916904\t3G\n",
      "./out/valid/2015.csv\t15628917\t3G\n"
     ]
    }
   ],
   "source": [
    "ls_validated()"
   ]
  },
  {
   "cell_type": "markdown",
   "metadata": {},
   "source": [
    "# Overview of options"
   ]
  },
  {
   "cell_type": "markdown",
   "metadata": {},
   "source": [
    "## Google BigQuery\n",
    "\n",
    "[Official page](https://cloud.google.com/bigquery/)\n",
    "\n",
    "Pros\n",
    "\n",
    "- Fast\n",
    "- Easy to collaborate on\n",
    "- SQL syntax\n",
    "- Easy to ingest raw data: no need to normalize tables\n",
    "\n",
    "Cons\n",
    "\n",
    "- Costs\n",
    "- Requires Internet connection\n",
    "- Proprietary format, lock in\n",
    "- Not available in RDC"
   ]
  },
  {
   "cell_type": "markdown",
   "metadata": {},
   "source": [
    "## Relational database\n",
    "\n",
    "- Can be on-permises or cloud.\n",
    "- Many alternative implementations: SQLite, Postgres, MySQL, ...\n",
    "\n",
    "Pros\n",
    "\n",
    "- Robust standard\n",
    "- Easily portable between providers\n",
    "- SQL syntax\n",
    "\n",
    "Cons\n",
    "\n",
    "- Slow\n",
    "  - Read-only might improve speeds\n",
    "- Even slower if schemas are not optimized: normalization, indexing"
   ]
  },
  {
   "cell_type": "markdown",
   "metadata": {},
   "source": [
    "## Data warehouse\n",
    "\n",
    "- Similar to GBQ, but can be installed on-premises. Unlikely in RDC.\n",
    "- Columnar storage optimized for analytics.\n",
    "\n",
    "[ClickHouse](https://clickhouse.yandex/), maybe others."
   ]
  },
  {
   "cell_type": "markdown",
   "metadata": {},
   "source": [
    "## Plain CSV + pandas or Stata\n",
    "\n",
    "Pros\n",
    "\n",
    "- Universally supported format\n",
    "- Human readable on disk (unless compressed)\n",
    "\n",
    "Cons\n",
    "\n",
    "- Slow\n",
    "- In-memory processing"
   ]
  },
  {
   "cell_type": "markdown",
   "metadata": {},
   "source": [
    "## Parquet, Arrow, dask\n",
    "\n",
    "- Out of core processing\n",
    "- Open standard\n",
    "- Difference between serialization format (on disk storage) and processing. Pandas and dask can process both CSV and parquet files."
   ]
  }
 ],
 "metadata": {
  "kernelspec": {
   "display_name": "Python 3",
   "language": "python",
   "name": "python3"
  }
 },
 "nbformat": 4,
 "nbformat_minor": 2
}
