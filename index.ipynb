{
 "cells": [
  {
   "cell_type": "markdown",
   "metadata": {},
   "source": [
    "# Exploring large data storage formats\n",
    "\n",
    "InfoGroup dataset comes in plain CSV files and is rather big. Exploring alternatives for storage and processing."
   ]
  },
  {
   "cell_type": "markdown",
   "metadata": {},
   "source": [
    "# Overview of options"
   ]
  },
  {
   "cell_type": "markdown",
   "metadata": {},
   "source": [
    "## Google BigQuery\n",
    "\n",
    "[Official page](https://cloud.google.com/bigquery/)\n",
    "\n",
    "Pros\n",
    "\n",
    "- Fast\n",
    "- Easy to collaborate on\n",
    "- SQL syntax\n",
    "- Easy to ingest raw data: no need to normalize tables\n",
    "\n",
    "Cons\n",
    "\n",
    "- Costs\n",
    "- Requires Internet connection\n",
    "- Proprietary format, lock in\n",
    "- Not available in RDC"
   ]
  },
  {
   "cell_type": "markdown",
   "metadata": {},
   "source": [
    "## Relational database\n",
    "\n",
    "- Can be on-permises or cloud.\n",
    "- Many alternative implementations: SQLite, Postgres, MySQL, ...\n",
    "\n",
    "Pros\n",
    "\n",
    "- Robust standard\n",
    "- Easily portable between providers\n",
    "- SQL syntax\n",
    "\n",
    "Cons\n",
    "\n",
    "- Slow\n",
    "  - Read-only might improve speeds\n",
    "- Even slower if schemas are not optimized: normalization, indexing"
   ]
  },
  {
   "cell_type": "markdown",
   "metadata": {},
   "source": [
    "## Data warehouse\n",
    "\n",
    "- Similar to GBQ, but can be installed on-premises. Unlikely in RDC.\n",
    "- Columnar storage optimized for analytics.\n",
    "\n",
    "[ClickHouse](https://clickhouse.yandex/), maybe others."
   ]
  },
  {
   "cell_type": "markdown",
   "metadata": {},
   "source": [
    "## Plain CSV + pandas or Stata\n",
    "\n",
    "Pros\n",
    "\n",
    "- Universally supported format\n",
    "- Human readable on disk (unless compressed)\n",
    "\n",
    "Cons\n",
    "\n",
    "- Slow\n",
    "- In-memory processing"
   ]
  },
  {
   "cell_type": "markdown",
   "metadata": {},
   "source": [
    "## Parquet, Arrow, dask\n",
    "\n",
    "- Out of core processing\n",
    "- Open standard\n",
    "- Difference between serialization format (on disk storage) and processing. Pandas and dask can process both CSV and parquet files."
   ]
  }
 ],
 "metadata": {
  "kernelspec": {
   "display_name": "Python 3",
   "language": "python",
   "name": "python3"
  }
 },
 "nbformat": 4,
 "nbformat_minor": 2
}
