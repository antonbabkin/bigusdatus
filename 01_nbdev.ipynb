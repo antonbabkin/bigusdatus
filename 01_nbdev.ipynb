{
 "cells": [
  {
   "cell_type": "markdown",
   "metadata": {},
   "source": [
    "# Learning nbdev"
   ]
  },
  {
   "cell_type": "code",
   "execution_count": null,
   "metadata": {},
   "outputs": [],
   "source": [
    "from nbdev.imports import *\n",
    "from nbdev.export import *\n",
    "from nbdev.test import *"
   ]
  },
  {
   "cell_type": "markdown",
   "metadata": {},
   "source": [
    "## Testing\n",
    "\n",
    "Invoke tests on all notebooks: `make test`.\n",
    "\n",
    "Test will run all notebooks that do not contain `# all_flag`.\n",
    "\n",
    "In every tested notebook, run *all cells* that are not marked with `# export` or one of test flags specified in `tst_flags` field of `settings.ini`."
   ]
  }
 ],
 "metadata": {
  "kernelspec": {
   "display_name": "Python 3",
   "language": "python",
   "name": "python3"
  }
 },
 "nbformat": 4,
 "nbformat_minor": 2
}
