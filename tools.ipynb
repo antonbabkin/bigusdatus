{
 "cells": [
  {
   "cell_type": "code",
   "execution_count": null,
   "metadata": {},
   "outputs": [],
   "source": [
    "# default_exp tools"
   ]
  },
  {
   "cell_type": "markdown",
   "metadata": {},
   "source": [
    "# Tools and utilities\n",
    "\n",
    "> Measuring performance, storage and memory."
   ]
  },
  {
   "cell_type": "markdown",
   "metadata": {},
   "source": [
    "## File size"
   ]
  },
  {
   "cell_type": "markdown",
   "metadata": {},
   "source": [
    "To report number of lines, is it faster to iterate through file in Python or use system `wc` utility?"
   ]
  },
  {
   "cell_type": "code",
   "execution_count": null,
   "metadata": {},
   "outputs": [],
   "source": [
    "# export\n",
    "import subprocess\n",
    "\n",
    "def wc_py(fpath):\n",
    "    \"Return number of lines in a text file, using Python I/O.\"\n",
    "    with open(fpath) as f:\n",
    "        line_count = 0\n",
    "        for _ in f:\n",
    "            line_count += 1\n",
    "    return line_count\n",
    "\n",
    "def wc_sys(fpath):\n",
    "    \"Return number of lines in a text file, using sytem 'wc' utility.\"\n",
    "    p = subprocess.run(['wc', '-l', fpath], capture_output=True, text=True)\n",
    "    return int(p.stdout.split()[0])"
   ]
  },
  {
   "cell_type": "code",
   "execution_count": null,
   "metadata": {},
   "outputs": [],
   "source": [
    "# hide\n",
    "fpath = './README.md'\n",
    "assert wc_py(fpath) == wc_sys(fpath)"
   ]
  },
  {
   "cell_type": "code",
   "execution_count": null,
   "metadata": {},
   "outputs": [
    {
     "name": "stdout",
     "output_type": "stream",
     "text": [
      "CPU times: user 9 s, sys: 1.47 s, total: 10.5 s\n",
      "Wall time: 10.4 s\n",
      "CPU times: user 6.76 ms, sys: 0 ns, total: 6.76 ms\n",
      "Wall time: 1.3 s\n"
     ]
    },
    {
     "data": {
      "text/plain": [
       "11169277"
      ]
     },
     "execution_count": null,
     "metadata": {},
     "output_type": "execute_result"
    }
   ],
   "source": [
    "# notest\n",
    "fpath = './out/valid/2000.csv'\n",
    "%time wc_py(fpath)\n",
    "%time wc_sys(fpath)"
   ]
  },
  {
   "cell_type": "markdown",
   "metadata": {},
   "source": [
    "So it is faster to use sytem `wc` utility."
   ]
  },
  {
   "cell_type": "markdown",
   "metadata": {},
   "source": [
    "## List files in a folder"
   ]
  },
  {
   "cell_type": "code",
   "execution_count": null,
   "metadata": {},
   "outputs": [],
   "source": [
    "# export\n",
    "from hurry.filesize import size\n",
    "\n",
    "def lsdir(fdir):\n",
    "    \"\"\"Return list of strings like \"file_name file_size number_of_lines\" for all files in :fdir:.\"\"\"\n",
    "    fpaths = []\n",
    "    for fname in os.listdir(fdir):\n",
    "        fpath = os.path.join(fdir, fname)\n",
    "        if not os.path.isfile(fpath):\n",
    "            continue\n",
    "        fpaths.append(fpath)\n",
    "    \n",
    "    info = ['Name\\tLines\\tSize']\n",
    "    for fpath in sorted(fpaths):\n",
    "        wc = wc_sys(fpath)\n",
    "        sz = size(os.path.getsize(fpath))\n",
    "        info.append(f'{fpath}\\t{wc}\\t{sz}')\n",
    "    return info\n"
   ]
  }
 ],
 "metadata": {
  "kernelspec": {
   "display_name": "Python 3",
   "language": "python",
   "name": "python3"
  }
 },
 "nbformat": 4,
 "nbformat_minor": 2
}
