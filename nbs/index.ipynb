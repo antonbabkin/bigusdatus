{
 "cells": [
  {
   "cell_type": "markdown",
   "metadata": {},
   "source": [
    "# Bigus datus: Working with bigger than memory data in Python\n",
    "\n",
    "> InfoGroup dataset comes in plain CSV files and is rather big. Exploring alternatives for storage and processing."
   ]
  },
  {
   "cell_type": "code",
   "execution_count": null,
   "metadata": {},
   "outputs": [],
   "source": [
    "# hide\n",
    "# all_flag\n",
    "%load_ext autoreload\n",
    "%autoreload 2\n",
    "\n",
    "from ig_format.core import lsdir\n"
   ]
  },
  {
   "cell_type": "markdown",
   "metadata": {},
   "source": [
    "# Data\n"
   ]
  },
  {
   "cell_type": "code",
   "execution_count": null,
   "metadata": {},
   "outputs": [],
   "source": [
    "# Validated files\n",
    "print(*lsdir('./out/valid'), sep='\\n')"
   ]
  },
  {
   "cell_type": "code",
   "execution_count": null,
   "metadata": {},
   "outputs": [],
   "source": [
    "# Extracts: first 100k records\n",
    "print(*lsdir('./out/extracts/100k'), sep='\\n')"
   ]
  },
  {
   "cell_type": "markdown",
   "metadata": {},
   "source": [
    "# Overview of options"
   ]
  },
  {
   "cell_type": "markdown",
   "metadata": {},
   "source": [
    "## Google BigQuery\n",
    "\n",
    "[Official page](https://cloud.google.com/bigquery/)\n",
    "\n",
    "Pros\n",
    "\n",
    "- Fast\n",
    "- Easy to collaborate on\n",
    "- SQL syntax\n",
    "- Easy to ingest raw data: no need to normalize tables\n",
    "\n",
    "Cons\n",
    "\n",
    "- Costs\n",
    "- Requires Internet connection\n",
    "- Proprietary format, lock in\n",
    "- Not available in RDC"
   ]
  },
  {
   "cell_type": "markdown",
   "metadata": {},
   "source": [
    "## Relational database\n",
    "\n",
    "- Can be on-permises or cloud.\n",
    "- Many alternative implementations: SQLite, Postgres, MySQL, ...\n",
    "\n",
    "Pros\n",
    "\n",
    "- Robust standard\n",
    "- Easily portable between providers\n",
    "- SQL syntax\n",
    "\n",
    "Cons\n",
    "\n",
    "- Slow\n",
    "  - Read-only might improve speeds\n",
    "- Even slower if schemas are not optimized: normalization, indexing"
   ]
  },
  {
   "cell_type": "markdown",
   "metadata": {},
   "source": [
    "## Data warehouse\n",
    "\n",
    "- Similar to GBQ, but can be installed on-premises. Unlikely in RDC.\n",
    "- Columnar storage optimized for analytics.\n",
    "\n",
    "[ClickHouse](https://clickhouse.yandex/), maybe others."
   ]
  },
  {
   "cell_type": "markdown",
   "metadata": {},
   "source": [
    "## Plain CSV + pandas or Stata\n",
    "\n",
    "Pros\n",
    "\n",
    "- Universally supported format\n",
    "- Human readable on disk (unless compressed)\n",
    "\n",
    "Cons\n",
    "\n",
    "- Slow\n",
    "- In-memory processing"
   ]
  },
  {
   "cell_type": "markdown",
   "metadata": {},
   "source": [
    "## Parquet, Arrow, dask\n",
    "\n",
    "- Out of core processing\n",
    "- Open standard\n",
    "- Difference between serialization format (on disk storage) and processing. Pandas and dask can process both CSV and parquet files."
   ]
  },
  {
   "cell_type": "markdown",
   "metadata": {},
   "source": [
    "# Installation\n",
    "\n",
    "Create `conda` environment and install packages. `conda-forge` channel must be enabled. Some packages are pip-only.\n",
    "\n",
    "```bash\n",
    "conda create -n ig_format jupyterlab pandas dask matplotlib fastparquet nodejs python-snappy\n",
    "pip install nbdev\n",
    "pip install dask_labextension\n",
    "```"
   ]
  }
 ],
 "metadata": {
  "kernelspec": {
   "display_name": "Python 3",
   "language": "python",
   "name": "python3"
  }
 },
 "nbformat": 4,
 "nbformat_minor": 4
}
