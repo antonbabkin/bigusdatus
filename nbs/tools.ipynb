{
 "cells": [
  {
   "cell_type": "code",
   "execution_count": null,
   "metadata": {},
   "outputs": [],
   "source": [
    "# default_exp tools"
   ]
  },
  {
   "cell_type": "markdown",
   "metadata": {},
   "source": [
    "# Tools and utilities\n",
    "\n",
    "> Measuring performance, storage and memory.\n",
    "\n",
    "Useful metrics:\n",
    "\n",
    "- on disk size\n",
    "- runtime\n",
    "- CPU utilization, average and peak\n",
    "- RAM utilization, average and peak"
   ]
  },
  {
   "cell_type": "code",
   "execution_count": null,
   "metadata": {},
   "outputs": [],
   "source": [
    "# export\n",
    "import os\n",
    "import subprocess\n",
    "from glob import glob"
   ]
  },
  {
   "cell_type": "markdown",
   "metadata": {},
   "source": [
    "# File size\n",
    "\n",
    "How much space files occupy on disk."
   ]
  },
  {
   "cell_type": "code",
   "execution_count": null,
   "metadata": {},
   "outputs": [],
   "source": [
    "# export\n",
    "def human_readable_size(byte_size):\n",
    "    \"\"\"Return human-readable size string, using base-10 prefixes.\"\"\"\n",
    "    if byte_size < 10**3:\n",
    "        return f'{byte_size}B'\n",
    "    if byte_size < 10**6:\n",
    "        return f'{byte_size / 10**3:.1f}kB'\n",
    "    if byte_size < 10**9:\n",
    "        return f'{byte_size / 10**6:.1f}MB'\n",
    "    return f'{byte_size / 10**9:.1f}GB'\n",
    "\n",
    "def size_on_disk(*glob_paths):\n",
    "    \"\"\"Return total and individual file sizes.\"\"\"\n",
    "    result = {'total': None, 'files': []}\n",
    "    for glob_path in glob_paths:\n",
    "        for path in glob(glob_path):\n",
    "            byte_size = os.path.getsize(path)\n",
    "            human_size = human_readable_size(byte_size)\n",
    "            result['files'].append((path, byte_size, human_size))\n",
    "    result['files'].sort(key=lambda x: x[0])\n",
    "    files_count = len(result['files'])\n",
    "    total_byte_size = sum(x[1] for x in result['files'])\n",
    "    total_human_size = human_readable_size(total_byte_size)\n",
    "    result['total'] = (files_count, total_byte_size, total_human_size)\n",
    "    return result"
   ]
  },
  {
   "cell_type": "code",
   "execution_count": null,
   "metadata": {},
   "outputs": [
    {
     "data": {
      "text/plain": [
       "{'total': (5, 9401273617, '9.4GB'),\n",
       " 'files': [('./data/csv/1997.csv', 2755917932, '2.8GB'),\n",
       "  ('./data/csv/1998.csv', 3127243930, '3.1GB'),\n",
       "  ('./data/csv/1999.csv', 3518111298, '3.5GB'),\n",
       "  ('./docs/sidebar.json', 184, '184B'),\n",
       "  ('./docs/tooltips.json', 273, '273B')]}"
      ]
     },
     "execution_count": null,
     "metadata": {},
     "output_type": "execute_result"
    }
   ],
   "source": [
    "# notest\n",
    "size_on_disk('./data/csv/1*.csv', './docs/*.json')"
   ]
  },
  {
   "cell_type": "markdown",
   "metadata": {},
   "source": [
    "## Number of lines\n",
    "To report number of lines, is it faster to iterate through file in Python or use system `wc` utility?"
   ]
  },
  {
   "cell_type": "code",
   "execution_count": null,
   "metadata": {},
   "outputs": [],
   "source": [
    "# export\n",
    "def wc_py(fpath):\n",
    "    \"Return number of lines in a text file, using Python I/O.\"\n",
    "    with open(fpath) as f:\n",
    "        line_count = 0\n",
    "        for _ in f:\n",
    "            line_count += 1\n",
    "    return line_count\n",
    "\n",
    "def wc_sys(fpath):\n",
    "    \"Return number of lines in a text file, using sytem 'wc' utility.\"\n",
    "    p = subprocess.run(['wc', '-l', fpath], capture_output=True, text=True)\n",
    "    return int(p.stdout.split()[0])"
   ]
  },
  {
   "cell_type": "code",
   "execution_count": null,
   "metadata": {},
   "outputs": [],
   "source": [
    "# hide\n",
    "fpath = './README.md'\n",
    "assert wc_py(fpath) == wc_sys(fpath)"
   ]
  },
  {
   "cell_type": "code",
   "execution_count": null,
   "metadata": {},
   "outputs": [
    {
     "name": "stdout",
     "output_type": "stream",
     "text": [
      "CPU times: user 9 s, sys: 1.47 s, total: 10.5 s\n",
      "Wall time: 10.4 s\n",
      "CPU times: user 6.76 ms, sys: 0 ns, total: 6.76 ms\n",
      "Wall time: 1.3 s\n"
     ]
    },
    {
     "data": {
      "text/plain": [
       "11169277"
      ]
     },
     "execution_count": null,
     "metadata": {},
     "output_type": "execute_result"
    }
   ],
   "source": [
    "# notest\n",
    "fpath = './out/valid/2000.csv'\n",
    "%time wc_py(fpath)\n",
    "%time wc_sys(fpath)"
   ]
  },
  {
   "cell_type": "markdown",
   "metadata": {},
   "source": [
    "So it is faster to use sytem `wc` utility."
   ]
  },
  {
   "cell_type": "markdown",
   "metadata": {},
   "source": [
    "## List files in a folder"
   ]
  },
  {
   "cell_type": "code",
   "execution_count": null,
   "metadata": {},
   "outputs": [],
   "source": [
    "# export\n",
    "def lsdir(fdir):\n",
    "    \"\"\"Return list of strings like \"file_name file_size number_of_lines\" for all files in :fdir:.\"\"\"\n",
    "    fpaths = []\n",
    "    for fname in os.listdir(fdir):\n",
    "        fpath = os.path.join(fdir, fname)\n",
    "        if not os.path.isfile(fpath):\n",
    "            continue\n",
    "        fpaths.append(fpath)\n",
    "    \n",
    "    info = ['Name\\tLines\\tSize']\n",
    "    for fpath in sorted(fpaths):\n",
    "        wc = wc_sys(fpath)\n",
    "        sz = human_readable_size(os.path.getsize(fpath))\n",
    "        info.append(f'{fpath}\\t{wc}\\t{sz}')\n",
    "    return info\n"
   ]
  },
  {
   "cell_type": "code",
   "execution_count": null,
   "metadata": {},
   "outputs": [
    {
     "name": "stdout",
     "output_type": "stream",
     "text": [
      "Name\tLines\tSize\n",
      "./.gitattributes\t2\t50B\n",
      "./.gitconfig\t18\t492B\n",
      "./.gitignore\t146\t1.6kB\n",
      "./00_core.ipynb\t184\t4.8kB\n",
      "./CONTRIBUTING.md\t33\t2.3kB\n",
      "./LICENSE\t201\t11.4kB\n",
      "./Makefile\t30\t416B\n",
      "./README.md\t122\t3.1kB\n",
      "./analysis.ipynb\t411\t12.1kB\n",
      "./index.ipynb\t249\t6.4kB\n",
      "./settings.ini\t41\t1.5kB\n",
      "./setup.py\t46\t1.9kB\n",
      "./storage.ipynb\t449\t15.2kB\n",
      "./tools.ipynb\t249\t6.1kB\n"
     ]
    }
   ],
   "source": [
    "# notest\n",
    "print(*lsdir('.'), sep='\\n')"
   ]
  },
  {
   "cell_type": "markdown",
   "metadata": {},
   "source": [
    "# Resource usage monitoring\n",
    "\n",
    "[Memory usage](https://medium.com/survata-engineering-blog/monitoring-memory-usage-of-a-running-python-program-49f027e3d1ba)"
   ]
  }
 ],
 "metadata": {
  "kernelspec": {
   "display_name": "Python 3",
   "language": "python",
   "name": "python3"
  }
 },
 "nbformat": 4,
 "nbformat_minor": 4
}
