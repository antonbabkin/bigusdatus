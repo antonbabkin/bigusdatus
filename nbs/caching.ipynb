{
 "cells": [
  {
   "cell_type": "markdown",
   "id": "decreased-lingerie",
   "metadata": {},
   "source": [
    "# Caching\n",
    "\n",
    "[shaypal5/cachier](https://github.com/shaypal5/cachier)"
   ]
  },
  {
   "cell_type": "markdown",
   "id": "smaller-trick",
   "metadata": {},
   "source": [
    "## multiple destinations\n",
    "Caching decorator can cache using a mix of different backends."
   ]
  },
  {
   "cell_type": "code",
   "execution_count": null,
   "id": "greenhouse-christmas",
   "metadata": {},
   "outputs": [],
   "source": [
    "import functools\n",
    "\n",
    "def cache_local(func):\n",
    "    def wrapped(*args, **kwargs):\n",
    "        print('cache local')\n",
    "        result = func(*args, **kwargs)\n",
    "        return result\n",
    "    return wrapped\n",
    "\n",
    "def cache_cloud(func):\n",
    "    def wrapped(*args, **kwargs):\n",
    "        print('cache cloud')\n",
    "        result = func(*args, **kwargs)\n",
    "        return result\n",
    "    return wrapped\n",
    "\n",
    "def cache(func=None, local=True, cloud=False):\n",
    "    if func is None:\n",
    "        return functools.partial(cache, local=local, cloud=cloud)\n",
    "    if local:\n",
    "        func = cache_local(func)\n",
    "    if cloud:\n",
    "        func = cache_cloud(func)\n",
    "    return func\n",
    "\n",
    "@cache\n",
    "def f1():\n",
    "    return 1\n",
    "\n",
    "@cache(local=False, cloud=True)\n",
    "def f2():\n",
    "    return 2\n",
    "\n",
    "@cache(cloud=True)\n",
    "def f3():\n",
    "    return 3\n",
    "\n",
    "print(f1())\n",
    "print(f2())\n",
    "print(f3())"
   ]
  },
  {
   "cell_type": "markdown",
   "id": "magnetic-cooperation",
   "metadata": {},
   "source": [
    "## cloud storage\n",
    "\n",
    "[Apache Libcloud](https://github.com/apache/libcloud) - a unified interface for the cloud\n",
    "\n",
    "```\n",
    "conda install -c conda-forge apache-libcloud\n",
    "```"
   ]
  },
  {
   "cell_type": "code",
   "execution_count": null,
   "id": "every-export",
   "metadata": {},
   "outputs": [],
   "source": [
    "import json\n",
    "from libcloud.storage.types import Provider\n",
    "from libcloud.storage.providers import get_driver\n",
    "\n",
    "# authenticate using service account key\n",
    "secrets = json.load(open('/home/babkin/info-group-162919-3ce4989c7e1e.json'))\n",
    "cls = get_driver(Provider.GOOGLE_STORAGE)\n",
    "driver = cls(secrets['client_email'], secrets['private_key'], project=secrets['project_id'])\n",
    "bucket = driver.get_container('info-group-public')"
   ]
  },
  {
   "cell_type": "code",
   "execution_count": null,
   "id": "nuclear-swiss",
   "metadata": {},
   "outputs": [],
   "source": [
    "# send in-memory object to cloud storage\n",
    "import io\n",
    "table = '''\n",
    "col1,col2,col3\n",
    "1,2,a\n",
    "1,2,b\n",
    ",5,c\n",
    "'''\n",
    "bucket.upload_object_via_stream(io.StringIO(table), 'data/test.csv')"
   ]
  },
  {
   "cell_type": "code",
   "execution_count": null,
   "id": "prerequisite-ethnic",
   "metadata": {},
   "outputs": [],
   "source": [
    "# read from public URL\n",
    "import pandas as pd\n",
    "pd.read_csv('https://storage.googleapis.com/info-group-public/data/test.csv')"
   ]
  },
  {
   "cell_type": "code",
   "execution_count": null,
   "id": "strategic-baker",
   "metadata": {},
   "outputs": [],
   "source": [
    "# delete object from cloud storage\n",
    "bucket.get_object('data/test.csv').delete()"
   ]
  }
 ],
 "metadata": {
  "kernelspec": {
   "display_name": "Python 3",
   "language": "python",
   "name": "python3"
  }
 },
 "nbformat": 4,
 "nbformat_minor": 5
}
